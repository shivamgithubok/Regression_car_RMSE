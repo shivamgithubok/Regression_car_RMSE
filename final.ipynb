{
 "cells": [
  {
   "cell_type": "code",
   "execution_count": 3,
   "id": "46e2ea9a-fdca-4d9c-ae58-1cabf26d988b",
   "metadata": {},
   "outputs": [],
   "source": [
    "import numpy as np\n",
    "import pandas as pd\n",
    "import matplotlib.pyplot as plt\n",
    "import seaborn as sns\n",
    "import random\n",
    "from sklearn.preprocessing import OrdinalEncoder ,OneHotEncoder\n",
    "from sklearn.preprocessing import StandardScaler\n",
    "from sklearn.impute import SimpleImputer\n",
    "from sklearn.model_selection import train_test_split\n",
    "from sklearn.linear_model import LinearRegression\n",
    "from sklearn.linear_model import LogisticRegression\n",
    "from sklearn.tree import DecisionTreeRegressor\n",
    "from sklearn.ensemble import RandomForestRegressor\n",
    "from sklearn.metrics import accuracy_score ,r2_score\n",
    "from sklearn.model_selection import GridSearchCV\n",
    "from sklearn.metrics import mean_squared_error\n",
    "from sklearn.tree import DecisionTreeClassifier\n",
    "from sklearn.model_selection import cross_val_score\n",
    "from sklearn.model_selection import GridSearchCV\n",
    "from sklearn.svm import SVR\n",
    "from sklearn.ensemble import VotingRegressor,BaggingRegressor\n",
    "from xgboost import XGBRegressor"
   ]
  },
  {
   "cell_type": "code",
   "execution_count": 4,
   "id": "79b09715-5d6a-4a32-80b2-0ba8671b1f9a",
   "metadata": {},
   "outputs": [],
   "source": [
    "df = pd.read_csv('train.csv')"
   ]
  },
  {
   "cell_type": "code",
   "execution_count": 5,
   "id": "2c8caac1-5114-4f4f-a458-11efeac6242c",
   "metadata": {},
   "outputs": [
    {
     "data": {
      "text/html": [
       "<div>\n",
       "<style scoped>\n",
       "    .dataframe tbody tr th:only-of-type {\n",
       "        vertical-align: middle;\n",
       "    }\n",
       "\n",
       "    .dataframe tbody tr th {\n",
       "        vertical-align: top;\n",
       "    }\n",
       "\n",
       "    .dataframe thead th {\n",
       "        text-align: right;\n",
       "    }\n",
       "</style>\n",
       "<table border=\"1\" class=\"dataframe\">\n",
       "  <thead>\n",
       "    <tr style=\"text-align: right;\">\n",
       "      <th></th>\n",
       "      <th>id</th>\n",
       "      <th>brand</th>\n",
       "      <th>model</th>\n",
       "      <th>model_year</th>\n",
       "      <th>milage</th>\n",
       "      <th>fuel_type</th>\n",
       "      <th>engine</th>\n",
       "      <th>transmission</th>\n",
       "      <th>ext_col</th>\n",
       "      <th>int_col</th>\n",
       "      <th>accident</th>\n",
       "      <th>clean_title</th>\n",
       "      <th>price</th>\n",
       "    </tr>\n",
       "  </thead>\n",
       "  <tbody>\n",
       "    <tr>\n",
       "      <th>0</th>\n",
       "      <td>0</td>\n",
       "      <td>MINI</td>\n",
       "      <td>Cooper S Base</td>\n",
       "      <td>2007</td>\n",
       "      <td>213000</td>\n",
       "      <td>Gasoline</td>\n",
       "      <td>172.0HP 1.6L 4 Cylinder Engine Gasoline Fuel</td>\n",
       "      <td>A/T</td>\n",
       "      <td>Yellow</td>\n",
       "      <td>Gray</td>\n",
       "      <td>None reported</td>\n",
       "      <td>Yes</td>\n",
       "      <td>4200</td>\n",
       "    </tr>\n",
       "    <tr>\n",
       "      <th>1</th>\n",
       "      <td>1</td>\n",
       "      <td>Lincoln</td>\n",
       "      <td>LS V8</td>\n",
       "      <td>2002</td>\n",
       "      <td>143250</td>\n",
       "      <td>Gasoline</td>\n",
       "      <td>252.0HP 3.9L 8 Cylinder Engine Gasoline Fuel</td>\n",
       "      <td>A/T</td>\n",
       "      <td>Silver</td>\n",
       "      <td>Beige</td>\n",
       "      <td>At least 1 accident or damage reported</td>\n",
       "      <td>Yes</td>\n",
       "      <td>4999</td>\n",
       "    </tr>\n",
       "  </tbody>\n",
       "</table>\n",
       "</div>"
      ],
      "text/plain": [
       "   id    brand          model  model_year  milage fuel_type  \\\n",
       "0   0     MINI  Cooper S Base        2007  213000  Gasoline   \n",
       "1   1  Lincoln          LS V8        2002  143250  Gasoline   \n",
       "\n",
       "                                         engine transmission ext_col int_col  \\\n",
       "0  172.0HP 1.6L 4 Cylinder Engine Gasoline Fuel          A/T  Yellow    Gray   \n",
       "1  252.0HP 3.9L 8 Cylinder Engine Gasoline Fuel          A/T  Silver   Beige   \n",
       "\n",
       "                                 accident clean_title  price  \n",
       "0                           None reported         Yes   4200  \n",
       "1  At least 1 accident or damage reported         Yes   4999  "
      ]
     },
     "execution_count": 5,
     "metadata": {},
     "output_type": "execute_result"
    }
   ],
   "source": [
    "df.head(2)"
   ]
  },
  {
   "cell_type": "code",
   "execution_count": 6,
   "id": "193904d5-25a3-4ad4-99c9-a8344cb5d48e",
   "metadata": {},
   "outputs": [],
   "source": [
    "df['brand'].unique()"
   ]
  },
  {
   "cell_type": "code",
   "execution_count": 2,
   "id": "716ce1bd-db95-41fb-83d3-7287a567c87f",
   "metadata": {},
   "outputs": [],
   "source": [
    "# sns.distplot(df['milage'])"
   ]
  },
  {
   "cell_type": "code",
   "execution_count": 8,
   "id": "8cf237dc-3254-40af-b4a5-7b55167f7ffb",
   "metadata": {},
   "outputs": [],
   "source": [
    "df['model_year'] = np.log(df['model_year'])"
   ]
  },
  {
   "cell_type": "code",
   "execution_count": 9,
   "id": "90f37e5b-9d32-4461-a86b-f518ae1df800",
   "metadata": {},
   "outputs": [],
   "source": [
    "df['milage'] = np.log(df['milage'])"
   ]
  },
  {
   "cell_type": "code",
   "execution_count": 10,
   "id": "b17e7219-d330-42b7-95ce-f54eb87586c3",
   "metadata": {},
   "outputs": [],
   "source": [
    "# sns.distplot(df['milage_log'])"
   ]
  },
  {
   "cell_type": "code",
   "execution_count": 11,
   "id": "0c4abf49-d84c-4624-ab90-e9b6859eb74e",
   "metadata": {},
   "outputs": [],
   "source": [
    "# sns.distplot(df['model_year_log'])"
   ]
  },
  {
   "cell_type": "code",
   "execution_count": 12,
   "id": "26d727a9-9adb-4680-836d-725d6d9953ac",
   "metadata": {},
   "outputs": [],
   "source": [
    "# df['model_year_log'] = df[(df['model_year_log'] > 7.6) & (df['model_year_log'] < df['model_year_log'].max())]"
   ]
  },
  {
   "cell_type": "code",
   "execution_count": 13,
   "id": "d3cfbe9e-876d-4dd7-933f-c4217117a83a",
   "metadata": {},
   "outputs": [
    {
     "data": {
      "text/html": [
       "<div>\n",
       "<style scoped>\n",
       "    .dataframe tbody tr th:only-of-type {\n",
       "        vertical-align: middle;\n",
       "    }\n",
       "\n",
       "    .dataframe tbody tr th {\n",
       "        vertical-align: top;\n",
       "    }\n",
       "\n",
       "    .dataframe thead th {\n",
       "        text-align: right;\n",
       "    }\n",
       "</style>\n",
       "<table border=\"1\" class=\"dataframe\">\n",
       "  <thead>\n",
       "    <tr style=\"text-align: right;\">\n",
       "      <th></th>\n",
       "      <th>id</th>\n",
       "      <th>brand</th>\n",
       "      <th>model</th>\n",
       "      <th>model_year</th>\n",
       "      <th>milage</th>\n",
       "      <th>fuel_type</th>\n",
       "      <th>engine</th>\n",
       "      <th>transmission</th>\n",
       "      <th>ext_col</th>\n",
       "      <th>int_col</th>\n",
       "      <th>accident</th>\n",
       "      <th>clean_title</th>\n",
       "      <th>price</th>\n",
       "    </tr>\n",
       "  </thead>\n",
       "  <tbody>\n",
       "    <tr>\n",
       "      <th>98090</th>\n",
       "      <td>98090</td>\n",
       "      <td>Cadillac</td>\n",
       "      <td>DTS Luxury II</td>\n",
       "      <td>7.602401</td>\n",
       "      <td>11.479162</td>\n",
       "      <td>Gasoline</td>\n",
       "      <td>275.0HP 4.6L 8 Cylinder Engine Gasoline Fuel</td>\n",
       "      <td>A/T</td>\n",
       "      <td>Red</td>\n",
       "      <td>Beige</td>\n",
       "      <td>At least 1 accident or damage reported</td>\n",
       "      <td>Yes</td>\n",
       "      <td>18900</td>\n",
       "    </tr>\n",
       "  </tbody>\n",
       "</table>\n",
       "</div>"
      ],
      "text/plain": [
       "          id     brand          model  model_year     milage fuel_type  \\\n",
       "98090  98090  Cadillac  DTS Luxury II    7.602401  11.479162  Gasoline   \n",
       "\n",
       "                                             engine transmission ext_col  \\\n",
       "98090  275.0HP 4.6L 8 Cylinder Engine Gasoline Fuel          A/T     Red   \n",
       "\n",
       "      int_col                                accident clean_title  price  \n",
       "98090   Beige  At least 1 accident or damage reported         Yes  18900  "
      ]
     },
     "execution_count": 13,
     "metadata": {},
     "output_type": "execute_result"
    }
   ],
   "source": [
    "df.sample(1)"
   ]
  },
  {
   "cell_type": "code",
   "execution_count": 14,
   "id": "9300b619-6156-48d7-bdca-213e3cd914a0",
   "metadata": {},
   "outputs": [],
   "source": [
    "df['engine']  =df['engine'].str.split(' ').str[0].str.split('.').str[0]"
   ]
  },
  {
   "cell_type": "code",
   "execution_count": 15,
   "id": "6305977f-0c84-4a28-9859-035948db8b61",
   "metadata": {},
   "outputs": [],
   "source": [
    "replace_values = ['Electric', '–', 'Intercooled', 'Standard', 'Battery','Dual']"
   ]
  },
  {
   "cell_type": "code",
   "execution_count": 16,
   "id": "fa8debbf-3ecb-4ebf-9c8f-42f313bcf4ba",
   "metadata": {},
   "outputs": [],
   "source": [
    "df['engine'] = df['engine'].apply(lambda x: np.random.randint(200, 301) if x in replace_values else x)"
   ]
  },
  {
   "cell_type": "code",
   "execution_count": 17,
   "id": "5324e07b-0e8a-483d-9b49-73f882a3f100",
   "metadata": {},
   "outputs": [],
   "source": [
    "df['engine'] = df['engine'].apply(lambda x: np.random.randint(200, 301) if any(char.isalpha() for char in str(x)) else x)"
   ]
  },
  {
   "cell_type": "code",
   "execution_count": 18,
   "id": "eef86d44-3b6f-4085-ab9d-61f08a89348e",
   "metadata": {},
   "outputs": [],
   "source": [
    "#df['engine'].unique()  #Electric,–,Intercooled,Standard,Battery"
   ]
  },
  {
   "cell_type": "code",
   "execution_count": 19,
   "id": "55ab9fe7-cc21-4b2d-9322-bc8bf1fc1f4a",
   "metadata": {},
   "outputs": [],
   "source": [
    "# df.info()"
   ]
  },
  {
   "cell_type": "code",
   "execution_count": 20,
   "id": "d20c9788-849c-405c-9013-ff74214e49f3",
   "metadata": {},
   "outputs": [],
   "source": [
    "df['engine'] = df['engine'].astype('string')"
   ]
  },
  {
   "cell_type": "code",
   "execution_count": 21,
   "id": "0cf05f58-ae20-4f7a-a8e4-194b6d2a986c",
   "metadata": {},
   "outputs": [],
   "source": [
    "df['engine'] = df['engine'].astype(int)"
   ]
  },
  {
   "cell_type": "code",
   "execution_count": 22,
   "id": "97b8b6c9-639d-4863-b15d-c5b15e85ed64",
   "metadata": {},
   "outputs": [
    {
     "data": {
      "text/plain": [
       "array(['MINI', 'Lincoln', 'Chevrolet', 'Genesis', 'Mercedes-Benz', 'Audi',\n",
       "       'Ford', 'BMW', 'Tesla', 'Cadillac', 'Land', 'GMC', 'Toyota',\n",
       "       'Hyundai', 'Volvo', 'Volkswagen', 'Buick', 'Rivian', 'RAM',\n",
       "       'Hummer', 'Alfa', 'INFINITI', 'Jeep', 'Porsche', 'McLaren',\n",
       "       'Honda', 'Lexus', 'Dodge', 'Nissan', 'Jaguar', 'Acura', 'Kia',\n",
       "       'Mitsubishi', 'Rolls-Royce', 'Maserati', 'Pontiac', 'Saturn',\n",
       "       'Bentley', 'Mazda', 'Subaru', 'Ferrari', 'Aston', 'Lamborghini',\n",
       "       'Chrysler', 'Lucid', 'Lotus', 'Scion', 'smart', 'Karma',\n",
       "       'Plymouth', 'Suzuki', 'FIAT', 'Saab', 'Bugatti', 'Mercury',\n",
       "       'Polestar', 'Maybach'], dtype=object)"
      ]
     },
     "execution_count": 22,
     "metadata": {},
     "output_type": "execute_result"
    }
   ],
   "source": [
    "df['brand'].unique()"
   ]
  },
  {
   "cell_type": "code",
   "execution_count": 23,
   "id": "5d179564-4939-42ba-8e5a-7f72bc5704ab",
   "metadata": {},
   "outputs": [],
   "source": [
    "# sns.distplot(df['engine'])"
   ]
  },
  {
   "cell_type": "code",
   "execution_count": 24,
   "id": "5e735a9f-fcdc-42a5-aeec-5ddcb51b982f",
   "metadata": {},
   "outputs": [],
   "source": [
    "df['engine'] = np.log(df['engine']) "
   ]
  },
  {
   "cell_type": "code",
   "execution_count": 25,
   "id": "27bcd03e-3dfb-4c7b-bce1-73269869fca5",
   "metadata": {},
   "outputs": [],
   "source": [
    "# sns.distplot(df['engine'])"
   ]
  },
  {
   "cell_type": "code",
   "execution_count": 26,
   "id": "2555696a-766c-4db7-b13f-bca8f4836008",
   "metadata": {},
   "outputs": [],
   "source": [
    "# column= df[['brand','fuel_type','ext_co']]"
   ]
  },
  {
   "cell_type": "code",
   "execution_count": 27,
   "id": "a1d2f6eb-3295-4a2f-952d-5ff9d330ec8a",
   "metadata": {},
   "outputs": [],
   "source": [
    "si = SimpleImputer(missing_values=np.nan, strategy='most_frequent')"
   ]
  },
  {
   "cell_type": "code",
   "execution_count": 28,
   "id": "4fb70273-7c69-4fba-87ae-2ed20212dcd7",
   "metadata": {},
   "outputs": [],
   "source": [
    "df[['fuel_type','accident','clean_title']] = si.fit_transform(df[['fuel_type','accident','clean_title']])"
   ]
  },
  {
   "cell_type": "code",
   "execution_count": 29,
   "id": "329f7af5-bfed-475b-b30a-730a82dfb93b",
   "metadata": {},
   "outputs": [
    {
     "data": {
      "text/plain": [
       "id              0\n",
       "brand           0\n",
       "model           0\n",
       "model_year      0\n",
       "milage          0\n",
       "fuel_type       0\n",
       "engine          0\n",
       "transmission    0\n",
       "ext_col         0\n",
       "int_col         0\n",
       "accident        0\n",
       "clean_title     0\n",
       "price           0\n",
       "dtype: int64"
      ]
     },
     "execution_count": 29,
     "metadata": {},
     "output_type": "execute_result"
    }
   ],
   "source": [
    "df.isnull().sum()"
   ]
  },
  {
   "cell_type": "code",
   "execution_count": 30,
   "id": "b7374e3c-a98c-4f8f-a955-9ddecc72f455",
   "metadata": {},
   "outputs": [],
   "source": [
    "df = df.drop(columns=['id'])"
   ]
  },
  {
   "cell_type": "code",
   "execution_count": 31,
   "id": "c4e4f3c4-385e-447d-97eb-39cafd29461a",
   "metadata": {},
   "outputs": [],
   "source": [
    "df = df.drop(columns=['transmission'])"
   ]
  },
  {
   "cell_type": "code",
   "execution_count": 32,
   "id": "02105634-3caf-4a0d-843b-4e10bf03f99f",
   "metadata": {},
   "outputs": [],
   "source": [
    "df = df.drop(columns=['ext_col'])"
   ]
  },
  {
   "cell_type": "code",
   "execution_count": 33,
   "id": "739af216-72fc-4b4c-ba6f-fad862d6a1d7",
   "metadata": {},
   "outputs": [],
   "source": [
    "df = df.drop(columns=['int_col'])"
   ]
  },
  {
   "cell_type": "code",
   "execution_count": 34,
   "id": "b49c4f7a-5a0d-4496-b52c-cd9a85e52c05",
   "metadata": {},
   "outputs": [
    {
     "data": {
      "text/html": [
       "<div>\n",
       "<style scoped>\n",
       "    .dataframe tbody tr th:only-of-type {\n",
       "        vertical-align: middle;\n",
       "    }\n",
       "\n",
       "    .dataframe tbody tr th {\n",
       "        vertical-align: top;\n",
       "    }\n",
       "\n",
       "    .dataframe thead th {\n",
       "        text-align: right;\n",
       "    }\n",
       "</style>\n",
       "<table border=\"1\" class=\"dataframe\">\n",
       "  <thead>\n",
       "    <tr style=\"text-align: right;\">\n",
       "      <th></th>\n",
       "      <th>brand</th>\n",
       "      <th>model</th>\n",
       "      <th>model_year</th>\n",
       "      <th>milage</th>\n",
       "      <th>fuel_type</th>\n",
       "      <th>engine</th>\n",
       "      <th>accident</th>\n",
       "      <th>clean_title</th>\n",
       "      <th>price</th>\n",
       "    </tr>\n",
       "  </thead>\n",
       "  <tbody>\n",
       "    <tr>\n",
       "      <th>13569</th>\n",
       "      <td>Chevrolet</td>\n",
       "      <td>Suburban 1500 LT</td>\n",
       "      <td>7.608374</td>\n",
       "      <td>11.999854</td>\n",
       "      <td>Gasoline</td>\n",
       "      <td>5.872118</td>\n",
       "      <td>At least 1 accident or damage reported</td>\n",
       "      <td>Yes</td>\n",
       "      <td>17995</td>\n",
       "    </tr>\n",
       "  </tbody>\n",
       "</table>\n",
       "</div>"
      ],
      "text/plain": [
       "           brand             model  model_year     milage fuel_type    engine  \\\n",
       "13569  Chevrolet  Suburban 1500 LT    7.608374  11.999854  Gasoline  5.872118   \n",
       "\n",
       "                                     accident clean_title  price  \n",
       "13569  At least 1 accident or damage reported         Yes  17995  "
      ]
     },
     "execution_count": 34,
     "metadata": {},
     "output_type": "execute_result"
    }
   ],
   "source": [
    "df.sample()"
   ]
  },
  {
   "cell_type": "code",
   "execution_count": 35,
   "id": "b9081f90-98f9-48bb-9e2d-72e807913872",
   "metadata": {},
   "outputs": [
    {
     "data": {
      "text/plain": [
       "(188533, 9)"
      ]
     },
     "execution_count": 35,
     "metadata": {},
     "output_type": "execute_result"
    }
   ],
   "source": [
    "df.shape"
   ]
  },
  {
   "cell_type": "code",
   "execution_count": 36,
   "id": "82abb240-2339-4261-8a1c-e70f23939417",
   "metadata": {},
   "outputs": [],
   "source": [
    "#accident,clean_title,"
   ]
  },
  {
   "cell_type": "code",
   "execution_count": 37,
   "id": "6a7b2534-9fa6-4be6-8535-7ae242232d31",
   "metadata": {},
   "outputs": [],
   "source": [
    "# df['ext_col'] = df['ext_col'].str.split(' ').str[-1]\n",
    "# replace_thing = ['-']\n",
    "# color = ['Yellow','Red','Blue','White','Metallic','Gray','Green']\n",
    "# df['ext_col'] = df['ext_col'].apply(lambda x: random.choice(color) if x in replace_values else x)\n",
    "# df['ext_col'].unique()"
   ]
  },
  {
   "cell_type": "code",
   "execution_count": null,
   "id": "62c73cae-6599-4e37-9059-83eb0ef3d6c0",
   "metadata": {},
   "outputs": [],
   "source": []
  },
  {
   "cell_type": "code",
   "execution_count": 38,
   "id": "204daf0b-f888-4ca7-a05e-7c46ab47ff15",
   "metadata": {},
   "outputs": [],
   "source": [
    "Ore = OrdinalEncoder()"
   ]
  },
  {
   "cell_type": "code",
   "execution_count": 39,
   "id": "3b631d7d-74ef-4f30-b548-c7d0e5fa2d00",
   "metadata": {},
   "outputs": [],
   "source": [
    "df[['accident','clean_title']] = Ore.fit_transform(df[['accident','clean_title']])"
   ]
  },
  {
   "cell_type": "code",
   "execution_count": 40,
   "id": "efb24b85-a365-443d-bdbb-f9ccbce1a42d",
   "metadata": {},
   "outputs": [],
   "source": [
    "df[['model']] = Ore.fit_transform(df[['model']])"
   ]
  },
  {
   "cell_type": "code",
   "execution_count": 41,
   "id": "8937d1e4-2c4c-4eb0-975f-f4bdac588ecd",
   "metadata": {},
   "outputs": [
    {
     "data": {
      "text/html": [
       "<div>\n",
       "<style scoped>\n",
       "    .dataframe tbody tr th:only-of-type {\n",
       "        vertical-align: middle;\n",
       "    }\n",
       "\n",
       "    .dataframe tbody tr th {\n",
       "        vertical-align: top;\n",
       "    }\n",
       "\n",
       "    .dataframe thead th {\n",
       "        text-align: right;\n",
       "    }\n",
       "</style>\n",
       "<table border=\"1\" class=\"dataframe\">\n",
       "  <thead>\n",
       "    <tr style=\"text-align: right;\">\n",
       "      <th></th>\n",
       "      <th>brand</th>\n",
       "      <th>model</th>\n",
       "      <th>model_year</th>\n",
       "      <th>milage</th>\n",
       "      <th>fuel_type</th>\n",
       "      <th>engine</th>\n",
       "      <th>accident</th>\n",
       "      <th>clean_title</th>\n",
       "      <th>price</th>\n",
       "    </tr>\n",
       "  </thead>\n",
       "  <tbody>\n",
       "    <tr>\n",
       "      <th>48439</th>\n",
       "      <td>Toyota</td>\n",
       "      <td>1529.0</td>\n",
       "      <td>7.608871</td>\n",
       "      <td>9.703877</td>\n",
       "      <td>Gasoline</td>\n",
       "      <td>1.791759</td>\n",
       "      <td>1.0</td>\n",
       "      <td>0.0</td>\n",
       "      <td>197499</td>\n",
       "    </tr>\n",
       "    <tr>\n",
       "      <th>112019</th>\n",
       "      <td>RAM</td>\n",
       "      <td>25.0</td>\n",
       "      <td>7.607878</td>\n",
       "      <td>9.692767</td>\n",
       "      <td>Diesel</td>\n",
       "      <td>5.857933</td>\n",
       "      <td>1.0</td>\n",
       "      <td>0.0</td>\n",
       "      <td>19290</td>\n",
       "    </tr>\n",
       "    <tr>\n",
       "      <th>58305</th>\n",
       "      <td>Land</td>\n",
       "      <td>1419.0</td>\n",
       "      <td>7.612337</td>\n",
       "      <td>9.399969</td>\n",
       "      <td>Gasoline</td>\n",
       "      <td>6.259581</td>\n",
       "      <td>1.0</td>\n",
       "      <td>0.0</td>\n",
       "      <td>179000</td>\n",
       "    </tr>\n",
       "  </tbody>\n",
       "</table>\n",
       "</div>"
      ],
      "text/plain": [
       "         brand   model  model_year    milage fuel_type    engine  accident  \\\n",
       "48439   Toyota  1529.0    7.608871  9.703877  Gasoline  1.791759       1.0   \n",
       "112019     RAM    25.0    7.607878  9.692767    Diesel  5.857933       1.0   \n",
       "58305     Land  1419.0    7.612337  9.399969  Gasoline  6.259581       1.0   \n",
       "\n",
       "        clean_title   price  \n",
       "48439           0.0  197499  \n",
       "112019          0.0   19290  \n",
       "58305           0.0  179000  "
      ]
     },
     "execution_count": 41,
     "metadata": {},
     "output_type": "execute_result"
    }
   ],
   "source": [
    "df.sample(3)"
   ]
  },
  {
   "cell_type": "code",
   "execution_count": 42,
   "id": "af4582db-5f73-4627-b712-dca2126f1d35",
   "metadata": {},
   "outputs": [
    {
     "data": {
      "text/plain": [
       "array(['Gasoline', 'E85 Flex Fuel', 'Hybrid', 'Diesel', 'Plug-In Hybrid',\n",
       "       '–', 'not supported'], dtype=object)"
      ]
     },
     "execution_count": 42,
     "metadata": {},
     "output_type": "execute_result"
    }
   ],
   "source": [
    " df['fuel_type'].unique()"
   ]
  },
  {
   "cell_type": "code",
   "execution_count": null,
   "id": "489d39b8-9fec-4164-bd17-1b7f4f066a0e",
   "metadata": {},
   "outputs": [],
   "source": []
  },
  {
   "cell_type": "code",
   "execution_count": 43,
   "id": "60f191cf-b286-4c88-ae82-97f2b2e06925",
   "metadata": {},
   "outputs": [],
   "source": [
    "df['transmission'] = df['transmission'].str.strip().str.lower()\n",
    "\n",
    "transmission_mapping = {\n",
    "\n",
    "    '6-speed a/t': 'Automatic',\n",
    "    '8-speed automatic': 'Automatic',\n",
    "    'automatic': 'Automatic',\n",
    "    '7-speed a/t': 'Automatic',\n",
    "    'a/t': 'Automatic',\n",
    "    '8-speed a/t': 'Automatic',\n",
    "    'transmission w/dual shift mode': 'Automatic',\n",
    "    '9-speed automatic': 'Automatic',\n",
    "    '10-speed automatic': 'Automatic',\n",
    "    '1-speed a/t': 'Automatic',\n",
    "    '2-speed a/t': 'Automatic',\n",
    "    '2-speed automatic': 'Automatic',\n",
    "    '4-speed a/t': 'Automatic',\n",
    "    '5-speed automatic': 'Automatic',\n",
    "    '4-speed automatic': 'Automatic',\n",
    "    '6-speed automatic': 'Automatic', \n",
    "    '9-speed a/t': 'Automatic',        \n",
    "    '10-speed a/t': 'Automatic',      \n",
    "    '7-speed automatic': 'Automatic',  \n",
    "    '6-speed electronically controlled automatic with o': 'Automatic',\n",
    "    'single-speed fixed gear': 'Automatic',\n",
    "    '7-speed dct automatic': 'Automatic',\n",
    "    '1-speed automatic' : 'Automatic',\n",
    "    '10-speed automatic with overdrive': 'Automatic',\n",
    "    'automatic, 9-spd 9g-tronic': 'Automatic',\n",
    "    'automatic, 8-spd': 'Automatic',\n",
    "    'automatic, 8-spd sport w/sport & manual modes': 'Automatic',\n",
    "    'automatic, 8-spd pdk dual-clutch': 'Automatic',\n",
    "    'automatic, 8-spd m steptronic w/drivelogic, sport & manual modes': 'Automatic',\n",
    "    'automatic, 8-spd dual-clutch': 'Automatic',\n",
    "    'transmission overdrive switch': 'Automatic',  \n",
    "    '8-speed automatic with auto-shift':'Automatic',\n",
    "    '9-speed automatic with auto-shift': 'Automatic',\n",
    "    '6-speed automatic with auto-shift': 'Automatic',\n",
    " \n",
    "    '7-speed automatic with auto-shift': 'Tiptronic',\n",
    "    '5-speed a/t': 'Tiptronic',\n",
    "    '7-speed a/t tiptronic': 'Tiptronic',  \n",
    "    '8-speed at': 'Tiptronic',\n",
    "    '8-speed a/t': 'Tiptronic',\n",
    "    \n",
    " \n",
    "    '6-speed m/t': 'Manual',\n",
    "    '7-speed m/t': 'Manual',\n",
    "    '6-speed manual': 'Manual',\n",
    "    '5-speed m/t': 'Manual',\n",
    "    'manual': 'Manual',\n",
    "    '7-speed manual': 'Manual',\n",
    "    '8-speed manual': 'Manual',\n",
    "    'm/t': 'Manual',\n",
    "    '6 speed at/mt': 'Manual',\n",
    "    '6 speed mt': 'Manual',\n",
    "\n",
    " \n",
    "    'automatic cvt': 'Variator',\n",
    "    'cvt transmission': 'Variator',\n",
    "    'cvt-f': 'Variator',\n",
    "    \n",
    "  \n",
    "    'variable': 'Variator',\n",
    "    'f': 'Other',                        \n",
    "    '7-speed': 'Other',                 \n",
    "    '6-speed': 'Other',                  \n",
    "    '2': 'Other',                       \n",
    "    '–': 'Other',\n",
    "    'scheduled for or in production': 'Other'\n",
    "}\n",
    "\n",
    "\n",
    "df['transmission'] = df['transmission'].replace(transmission_mapping)\n",
    "\n",
    "\n",
    "print(df['transmission'].value_counts())"
   ]
  },
  {
   "cell_type": "code",
   "execution_count": 260,
   "id": "316bd8b7-85d1-4cb0-a85b-94580f95efe3",
   "metadata": {},
   "outputs": [],
   "source": [
    "df['transmission'].unique()"
   ]
  },
  {
   "cell_type": "code",
   "execution_count": 261,
   "id": "81e8667c-da5c-4c7d-b06c-888c9743bbea",
   "metadata": {},
   "outputs": [],
   "source": [
    "df['transmission'] = Ore.fit_transform(df['transmission'])"
   ]
  },
  {
   "cell_type": "code",
   "execution_count": 262,
   "id": "6f6158f3-7c55-4695-ba38-56ea36f7045c",
   "metadata": {},
   "outputs": [],
   "source": [
    "df[\"transmission\"] = df[\"transmission\"].replace({'Automatic':1,\n",
    "                                                'Tiptronic':2,\n",
    "                                                'Manual':3,\n",
    "                                                'Variator':4,\n",
    "                                                'Other':5,\n",
    "                                                '1-speed automatic':6,\n",
    "                                                '8-speed automatic with auto-shift':7,\n",
    "                                                '9-speed automatic with auto-shift':8,\n",
    "                                                '6-speed automatic with auto-shift':9})\n",
    "df[\"transmission\"].value_counts()"
   ]
  },
  {
   "cell_type": "code",
   "execution_count": 44,
   "id": "8365454b-4402-464b-b05c-24890da457a0",
   "metadata": {},
   "outputs": [],
   "source": [
    "# Create an instance of the OneHotEncoder\n",
    "encoder = OneHotEncoder(sparse_output=False, handle_unknown='ignore')\n",
    "\n",
    "# Fit the encoder on the training data\n",
    "encoded_array_train = encoder.fit_transform(df[['brand', 'fuel_type']])\n",
    "\n",
    "# Convert the encoded array to a DataFrame\n",
    "encoded_df_train = pd.DataFrame(encoded_array_train, columns=encoder.get_feature_names_out(['brand', 'fuel_type']))\n",
    "\n",
    "# Concatenate the original training DataFrame with the new encoded columns and drop the old ones\n",
    "df = pd.concat([df, encoded_df_train], axis=1).drop(['brand', 'fuel_type'], axis=1)\n"
   ]
  },
  {
   "cell_type": "code",
   "execution_count": 45,
   "id": "8424b43f-50d7-4ec8-976c-b4bd0a5b0dea",
   "metadata": {},
   "outputs": [
    {
     "data": {
      "text/html": [
       "<div>\n",
       "<style scoped>\n",
       "    .dataframe tbody tr th:only-of-type {\n",
       "        vertical-align: middle;\n",
       "    }\n",
       "\n",
       "    .dataframe tbody tr th {\n",
       "        vertical-align: top;\n",
       "    }\n",
       "\n",
       "    .dataframe thead th {\n",
       "        text-align: right;\n",
       "    }\n",
       "</style>\n",
       "<table border=\"1\" class=\"dataframe\">\n",
       "  <thead>\n",
       "    <tr style=\"text-align: right;\">\n",
       "      <th></th>\n",
       "      <th>model</th>\n",
       "      <th>model_year</th>\n",
       "      <th>milage</th>\n",
       "      <th>engine</th>\n",
       "      <th>accident</th>\n",
       "      <th>clean_title</th>\n",
       "      <th>price</th>\n",
       "      <th>brand_Acura</th>\n",
       "      <th>brand_Alfa</th>\n",
       "      <th>brand_Aston</th>\n",
       "      <th>...</th>\n",
       "      <th>brand_Volkswagen</th>\n",
       "      <th>brand_Volvo</th>\n",
       "      <th>brand_smart</th>\n",
       "      <th>fuel_type_Diesel</th>\n",
       "      <th>fuel_type_E85 Flex Fuel</th>\n",
       "      <th>fuel_type_Gasoline</th>\n",
       "      <th>fuel_type_Hybrid</th>\n",
       "      <th>fuel_type_Plug-In Hybrid</th>\n",
       "      <th>fuel_type_not supported</th>\n",
       "      <th>fuel_type_–</th>\n",
       "    </tr>\n",
       "  </thead>\n",
       "  <tbody>\n",
       "    <tr>\n",
       "      <th>110212</th>\n",
       "      <td>1180.0</td>\n",
       "      <td>7.612337</td>\n",
       "      <td>8.536996</td>\n",
       "      <td>5.673323</td>\n",
       "      <td>1.0</td>\n",
       "      <td>0.0</td>\n",
       "      <td>78000</td>\n",
       "      <td>0.0</td>\n",
       "      <td>0.0</td>\n",
       "      <td>0.0</td>\n",
       "      <td>...</td>\n",
       "      <td>0.0</td>\n",
       "      <td>0.0</td>\n",
       "      <td>0.0</td>\n",
       "      <td>0.0</td>\n",
       "      <td>0.0</td>\n",
       "      <td>1.0</td>\n",
       "      <td>0.0</td>\n",
       "      <td>0.0</td>\n",
       "      <td>0.0</td>\n",
       "      <td>0.0</td>\n",
       "    </tr>\n",
       "    <tr>\n",
       "      <th>30038</th>\n",
       "      <td>1102.0</td>\n",
       "      <td>7.610853</td>\n",
       "      <td>10.047588</td>\n",
       "      <td>6.507278</td>\n",
       "      <td>1.0</td>\n",
       "      <td>0.0</td>\n",
       "      <td>47500</td>\n",
       "      <td>0.0</td>\n",
       "      <td>0.0</td>\n",
       "      <td>0.0</td>\n",
       "      <td>...</td>\n",
       "      <td>0.0</td>\n",
       "      <td>0.0</td>\n",
       "      <td>0.0</td>\n",
       "      <td>0.0</td>\n",
       "      <td>0.0</td>\n",
       "      <td>1.0</td>\n",
       "      <td>0.0</td>\n",
       "      <td>0.0</td>\n",
       "      <td>0.0</td>\n",
       "      <td>0.0</td>\n",
       "    </tr>\n",
       "    <tr>\n",
       "      <th>123859</th>\n",
       "      <td>1666.0</td>\n",
       "      <td>7.610358</td>\n",
       "      <td>10.562845</td>\n",
       "      <td>1.098612</td>\n",
       "      <td>1.0</td>\n",
       "      <td>0.0</td>\n",
       "      <td>33580</td>\n",
       "      <td>0.0</td>\n",
       "      <td>0.0</td>\n",
       "      <td>0.0</td>\n",
       "      <td>...</td>\n",
       "      <td>0.0</td>\n",
       "      <td>0.0</td>\n",
       "      <td>0.0</td>\n",
       "      <td>0.0</td>\n",
       "      <td>0.0</td>\n",
       "      <td>1.0</td>\n",
       "      <td>0.0</td>\n",
       "      <td>0.0</td>\n",
       "      <td>0.0</td>\n",
       "      <td>0.0</td>\n",
       "    </tr>\n",
       "  </tbody>\n",
       "</table>\n",
       "<p>3 rows × 71 columns</p>\n",
       "</div>"
      ],
      "text/plain": [
       "         model  model_year     milage    engine  accident  clean_title  price  \\\n",
       "110212  1180.0    7.612337   8.536996  5.673323       1.0          0.0  78000   \n",
       "30038   1102.0    7.610853  10.047588  6.507278       1.0          0.0  47500   \n",
       "123859  1666.0    7.610358  10.562845  1.098612       1.0          0.0  33580   \n",
       "\n",
       "        brand_Acura  brand_Alfa  brand_Aston  ...  brand_Volkswagen  \\\n",
       "110212          0.0         0.0          0.0  ...               0.0   \n",
       "30038           0.0         0.0          0.0  ...               0.0   \n",
       "123859          0.0         0.0          0.0  ...               0.0   \n",
       "\n",
       "        brand_Volvo  brand_smart  fuel_type_Diesel  fuel_type_E85 Flex Fuel  \\\n",
       "110212          0.0          0.0               0.0                      0.0   \n",
       "30038           0.0          0.0               0.0                      0.0   \n",
       "123859          0.0          0.0               0.0                      0.0   \n",
       "\n",
       "        fuel_type_Gasoline  fuel_type_Hybrid  fuel_type_Plug-In Hybrid  \\\n",
       "110212                 1.0               0.0                       0.0   \n",
       "30038                  1.0               0.0                       0.0   \n",
       "123859                 1.0               0.0                       0.0   \n",
       "\n",
       "        fuel_type_not supported  fuel_type_–  \n",
       "110212                      0.0          0.0  \n",
       "30038                       0.0          0.0  \n",
       "123859                      0.0          0.0  \n",
       "\n",
       "[3 rows x 71 columns]"
      ]
     },
     "execution_count": 45,
     "metadata": {},
     "output_type": "execute_result"
    }
   ],
   "source": [
    "df.sample(3)"
   ]
  },
  {
   "cell_type": "code",
   "execution_count": 46,
   "id": "51d465b7-b07c-48ac-9f9c-c2dc5a102046",
   "metadata": {},
   "outputs": [
    {
     "data": {
      "text/plain": [
       "(188533, 71)"
      ]
     },
     "execution_count": 46,
     "metadata": {},
     "output_type": "execute_result"
    }
   ],
   "source": [
    "df.shape"
   ]
  },
  {
   "cell_type": "code",
   "execution_count": 47,
   "id": "3c4a3a24-d676-4c70-b6a7-8b930eae0428",
   "metadata": {},
   "outputs": [],
   "source": [
    "X = df.drop(columns=['price'])"
   ]
  },
  {
   "cell_type": "code",
   "execution_count": 48,
   "id": "8329fb3e-ad3b-46de-bc15-71461d376daa",
   "metadata": {},
   "outputs": [],
   "source": [
    "y = df['price']"
   ]
  },
  {
   "cell_type": "code",
   "execution_count": 49,
   "id": "67e9da08-a7a4-45fd-9f66-27bb35a0e171",
   "metadata": {},
   "outputs": [],
   "source": [
    "X_train,X_test,y_train,y_test = train_test_split(X,y,test_size=0.2,random_state=42)"
   ]
  },
  {
   "cell_type": "code",
   "execution_count": 155,
   "id": "649a05c4-76af-455a-a3ed-20cc60b40b95",
   "metadata": {},
   "outputs": [
    {
     "data": {
      "text/plain": [
       "69360.89144669793"
      ]
     },
     "execution_count": 155,
     "metadata": {},
     "output_type": "execute_result"
    }
   ],
   "source": [
    "li = LinearRegression()\n",
    "li.fit(X_train,y_train)\n",
    "y_pred = li.predict(X_test)\n",
    "mse = mean_squared_error(y_test, y_pred)\n",
    "np.sqrt(mse)\n",
    "# 69306.78045800315"
   ]
  },
  {
   "cell_type": "code",
   "execution_count": 53,
   "id": "552afe8f-7aef-4391-a89e-13e378f8e868",
   "metadata": {},
   "outputs": [
    {
     "data": {
      "text/plain": [
       "75554.28796726829"
      ]
     },
     "execution_count": 53,
     "metadata": {},
     "output_type": "execute_result"
    }
   ],
   "source": [
    "rfr = RandomForestRegressor()\n",
    "rfr.fit(X_train,y_train)\n",
    "y_pred = rfr.predict(X_test)\n",
    "np.sqrt(mean_squared_error(y_test, y_pred))\n",
    "# 75505.16976543787"
   ]
  },
  {
   "cell_type": "code",
   "execution_count": 102,
   "id": "402e2c45-f34f-434d-bf00-68a661e0f770",
   "metadata": {},
   "outputs": [],
   "source": [
    "from sklearn.ensemble import GradientBoostingRegressor"
   ]
  },
  {
   "cell_type": "code",
   "execution_count": 200,
   "id": "1984c963-f7f3-4d03-b018-f8cd18a1639d",
   "metadata": {},
   "outputs": [
    {
     "data": {
      "text/plain": [
       "69381.50488512909"
      ]
     },
     "execution_count": 200,
     "metadata": {},
     "output_type": "execute_result"
    }
   ],
   "source": [
    "gd = GradientBoostingRegressor()\n",
    "gd.fit(X_train,y_train)\n",
    "y_pred = gd.predict(X_test)\n",
    "np.sqrt(mean_squared_error(y_test,y_pred))\n",
    "#68269.06832464023"
   ]
  },
  {
   "cell_type": "code",
   "execution_count": 1,
   "id": "2ee92a72-03bc-4a1b-89a1-9491ce2ac043",
   "metadata": {},
   "outputs": [],
   "source": [
    "# Lo = LogisticRegression()\n",
    "# Lo.fit(X_train,y_train)\n",
    "# y_pred = Lo.predict(X_test)\n",
    "# np.sqrt(mean_squared_error(y_test,y_pred))"
   ]
  },
  {
   "cell_type": "code",
   "execution_count": 217,
   "id": "9ae88270-a216-4951-a5f0-51e3de17991f",
   "metadata": {},
   "outputs": [],
   "source": [
    "reg1 = LinearRegression()\n",
    "reg2 = GradientBoostingRegressor()\n",
    "# reg3 = XGBRegressor()\n",
    "# reg4 = AdaBoostRegressor()"
   ]
  },
  {
   "cell_type": "code",
   "execution_count": 218,
   "id": "5c3f37ad-1b96-4886-acdc-4939538837f4",
   "metadata": {},
   "outputs": [],
   "source": [
    "estimators = [('Lin', reg1),('gb', gd)]"
   ]
  },
  {
   "cell_type": "code",
   "execution_count": 219,
   "id": "ba3f5d11-c95a-483a-b0b8-589350bf2299",
   "metadata": {},
   "outputs": [
    {
     "name": "stdout",
     "output_type": "stream",
     "text": [
      "68597.94525811524\n"
     ]
    }
   ],
   "source": [
    "ereg = VotingRegressor(estimators=estimators)\n",
    "\n",
    "# Fit the model\n",
    "ereg.fit(X_train, y_train)\n",
    "\n",
    "# Make predictions\n",
    "y_pred = ereg.predict(X_test)\n",
    "\n",
    "# Calculate and print RMSE (Root Mean Squared Error)\n",
    "rmse = np.sqrt(mean_squared_error(y_test, y_pred))\n",
    "print(rmse)\n",
    "#69586.51233005124\n",
    "#68394.50116562379"
   ]
  },
  {
   "cell_type": "code",
   "execution_count": null,
   "id": "328ff313-f7a7-4f92-94cc-3ef2f16c0530",
   "metadata": {},
   "outputs": [],
   "source": [
    "xgb = XGBRegressor()\n",
    "xgb.fit(X_train,y_train)\n",
    "y_pred = xgb.predict(X_test)\n",
    "np.sqrt(mean_squared_error(y_test,y_pred))\n",
    "#71337.54538777315"
   ]
  },
  {
   "cell_type": "code",
   "execution_count": 202,
   "id": "6da422d5-4633-4e6a-89a2-0af7ca272b51",
   "metadata": {},
   "outputs": [],
   "source": [
    "from sklearn.ensemble import AdaBoostRegressor"
   ]
  },
  {
   "cell_type": "code",
   "execution_count": 203,
   "id": "00cda971-365b-488c-889f-9a0f73b135ed",
   "metadata": {},
   "outputs": [],
   "source": [
    "ada = AdaBoostRegressor()\n",
    "ada.fit(X_train,y_train)\n",
    "y_pred = ada.predict(X_test)\n",
    "np.sqrt(mean_squared_error(y_test,y_pred))\n",
    "#70325.04248887805"
   ]
  },
  {
   "cell_type": "code",
   "execution_count": 269,
   "id": "4e832462-61c3-463c-bb52-76ec2dd0c16d",
   "metadata": {},
   "outputs": [
    {
     "name": "stderr",
     "output_type": "stream",
     "text": [
      "C:\\Users\\Asus\\anaconda3\\Lib\\site-packages\\sklearn\\ensemble\\_base.py:166: FutureWarning: `base_estimator` was renamed to `estimator` in version 1.2 and will be removed in 1.4.\n",
      "  warnings.warn(\n"
     ]
    },
    {
     "name": "stdout",
     "output_type": "stream",
     "text": [
      "Root Mean Squared Error: 71252.79009700463\n"
     ]
    }
   ],
   "source": [
    "reg1 = AdaBoostRegressor()\n",
    "reg2 = GradientBoostingRegressor()\n",
    "reg3 = LinearRegression()\n",
    "voting_regressor = VotingRegressor(estimators=[\n",
    "    ('ada', reg1),\n",
    "    ('gd', reg2),\n",
    "    ('lr', reg3)\n",
    "])\n",
    "bagging_regressor = BaggingRegressor(\n",
    "    base_estimator=voting_regressor,  # Using the VotingRegressor as the base\n",
    "    n_estimators=10,  # Number of base estimators to use in bagging\n",
    "    random_state=42,  # For reproducibility\n",
    "    max_samples=1.0,  # Fraction of samples to use for each estimator\n",
    "    max_features=1.0  # Fraction of features to use for each estimator\n",
    ")\n",
    "\n",
    "# Train the BaggingRegressor on the training data\n",
    "bagging_regressor.fit(X_train, y_train)\n",
    "\n",
    "# Make predictions on the test data\n",
    "y_pred = bagging_regressor.predict(X_test)\n",
    "\n",
    "# Calculate RMSE for the BaggingRegressor with multiple estimators\n",
    "rmse = np.sqrt(mean_squared_error(y_test, y_pred))\n",
    "print(\"Root Mean Squared Error:\", rmse)\n",
    "#Root Mean Squared Error: 71252.79009700463"
   ]
  },
  {
   "cell_type": "code",
   "execution_count": 271,
   "id": "c5f76ef7-bac4-46bf-b758-0024cdbefeda",
   "metadata": {},
   "outputs": [
    {
     "name": "stderr",
     "output_type": "stream",
     "text": [
      "C:\\Users\\Asus\\anaconda3\\Lib\\site-packages\\sklearn\\ensemble\\_base.py:166: FutureWarning: `base_estimator` was renamed to `estimator` in version 1.2 and will be removed in 1.4.\n",
      "  warnings.warn(\n"
     ]
    },
    {
     "name": "stdout",
     "output_type": "stream",
     "text": [
      "Root Mean Squared Error: 80363.09918774935\n"
     ]
    }
   ],
   "source": [
    "reg1 = AdaBoostRegressor()\n",
    "bagging_regressor = BaggingRegressor(\n",
    "    base_estimator=reg1,  # Using the VotingRegressor as the base\n",
    "    n_estimators=50,  # Number of base estimators to use in bagging\n",
    "    random_state=42,  # For reproducibility\n",
    "    max_samples=1.0,  # Fraction of samples to use for each estimator\n",
    ")\n",
    "\n",
    "# Train the BaggingRegressor on the training data\n",
    "bagging_regressor.fit(X_train, y_train)\n",
    "\n",
    "# Make predictions on the test data\n",
    "y_pred = bagging_regressor.predict(X_test)\n",
    "\n",
    "# Calculate RMSE for the BaggingRegressor with multiple estimators\n",
    "rmse = np.sqrt(mean_squared_error(y_test, y_pred))\n",
    "print(\"Root Mean Squared Error:\", rmse)\n",
    "#Root Mean Squared Error: 71252.79009700463"
   ]
  },
  {
   "cell_type": "code",
   "execution_count": 53,
   "id": "090b07e4-af47-45b7-85ff-07dfeaf2deff",
   "metadata": {},
   "outputs": [],
   "source": [
    "from sklearn.model_selection import GridSearchCV\n",
    "from sklearn.ensemble import GradientBoostingRegressor\n",
    "\n",
    "# Create the model\n",
    "gbr = GradientBoostingRegressor()\n",
    "\n",
    "# Define the parameters to tune\n",
    "param_grid = {\n",
    "    'n_estimators': [100, 200, 300],\n",
    "    'learning_rate': [0.01, 0.05, 0.1],\n",
    "    'max_depth': [3, 4, 5],\n",
    "    'subsample': [0.8, 1.0],\n",
    "    'min_samples_split': [2, 5, 10],\n",
    "    'min_samples_leaf': [1, 2, 4],\n",
    "    'max_features': ['auto', 'sqrt', 'log2']  # For feature selection\n",
    "}\n",
    "\n",
    "# Grid search with 5-fold cross-validation\n",
    "grid_search = GridSearchCV(estimator=gbr, param_grid=param_grid, cv=5, n_jobs=-1, scoring='neg_mean_squared_error')\n",
    "\n",
    "# Fit the model\n",
    "grid_search.fit(X_train, y_train)\n",
    "y_pred = grid_search.predict(X_test)\n",
    "np.sqrt(mean_squared_error(y_test,y_pred))\n",
    "# Get the best parameters\n",
    "# best_params = grid_search.best_params_\n",
    "\n",
    "# print(f'Best parameters found: {best_params}')\n"
   ]
  },
  {
   "cell_type": "code",
   "execution_count": 50,
   "id": "ca3e328b-2364-4a20-8008-5ce6992d471f",
   "metadata": {},
   "outputs": [],
   "source": [
    "from sklearn.ensemble import HistGradientBoostingRegressor"
   ]
  },
  {
   "cell_type": "code",
   "execution_count": 95,
   "id": "b89caf68-ef7e-4b81-bb67-c091078e89f8",
   "metadata": {},
   "outputs": [
    {
     "data": {
      "text/plain": [
       "67925.73417662349"
      ]
     },
     "execution_count": 95,
     "metadata": {},
     "output_type": "execute_result"
    }
   ],
   "source": [
    "hist = HistGradientBoostingRegressor(loss='squared_error',quantile=None, learning_rate=0.1, max_iter=110, max_leaf_nodes=31,min_samples_leaf=25)\n",
    "hist.fit(X_train,y_train)\n",
    "y_pred = hist.predict(X_test)\n",
    "np.sqrt(mean_squared_error(y_test,y_pred))\n",
    "#68170.0409285204\n",
    "#with_(max_iter = 110)\n",
    "#68030.83665385003\n",
    "#on max_sample_leaf=25\n",
    "#67947.44349342202"
   ]
  },
  {
   "cell_type": "code",
   "execution_count": 131,
   "id": "f31ac507-3c0c-423f-ae53-87cb049b9f7a",
   "metadata": {},
   "outputs": [],
   "source": [
    "from sklearn.ensemble import ExtraTreesRegressor"
   ]
  },
  {
   "cell_type": "code",
   "execution_count": null,
   "id": "4c404569-f2ef-4324-9119-6869b4ceb868",
   "metadata": {},
   "outputs": [],
   "source": [
    "Ext = ExtraTreesRegressor()\n",
    "Ext.fit(X_train,y_train)\n",
    "y_pred = Ext.predict(X_test)\n",
    "np.sqrt(mean_squared_error(y_test,y_pred))"
   ]
  },
  {
   "cell_type": "code",
   "execution_count": 53,
   "id": "21a8b1ee-6b9b-4a4f-8398-2d2cc98c1fd4",
   "metadata": {},
   "outputs": [
    {
     "data": {
      "text/plain": [
       "68170.04092852048"
      ]
     },
     "execution_count": 53,
     "metadata": {},
     "output_type": "execute_result"
    }
   ],
   "source": [
    "np.sqrt(mean_squared_error(y_test,y_pred))"
   ]
  },
  {
   "cell_type": "code",
   "execution_count": null,
   "id": "e4bf4b2b-042d-4ff2-a9df-83fc6f407dff",
   "metadata": {},
   "outputs": [],
   "source": [
    "\n",
    "\n",
    "\n",
    "\n",
    "\n",
    "\n",
    "\n",
    "\n",
    "\n",
    "\n",
    "\n",
    "\n"
   ]
  },
  {
   "cell_type": "code",
   "execution_count": 96,
   "id": "227c36e4-79cd-4ece-866f-b808e6840eff",
   "metadata": {},
   "outputs": [],
   "source": [
    "df1 = pd.read_csv('test.csv')"
   ]
  },
  {
   "cell_type": "code",
   "execution_count": 97,
   "id": "09b0c9a8-a460-427b-8d98-740f30580476",
   "metadata": {},
   "outputs": [
    {
     "data": {
      "text/plain": [
       "(125690, 12)"
      ]
     },
     "execution_count": 97,
     "metadata": {},
     "output_type": "execute_result"
    }
   ],
   "source": [
    "df1.shape"
   ]
  },
  {
   "cell_type": "code",
   "execution_count": 98,
   "id": "b459c411-6603-460a-b54f-bc8043393fec",
   "metadata": {},
   "outputs": [],
   "source": [
    "X1 = df1['id'] "
   ]
  },
  {
   "cell_type": "code",
   "execution_count": 99,
   "id": "6b0317f6-c870-45aa-b4b7-261d98d2277b",
   "metadata": {},
   "outputs": [
    {
     "data": {
      "text/html": [
       "<div>\n",
       "<style scoped>\n",
       "    .dataframe tbody tr th:only-of-type {\n",
       "        vertical-align: middle;\n",
       "    }\n",
       "\n",
       "    .dataframe tbody tr th {\n",
       "        vertical-align: top;\n",
       "    }\n",
       "\n",
       "    .dataframe thead th {\n",
       "        text-align: right;\n",
       "    }\n",
       "</style>\n",
       "<table border=\"1\" class=\"dataframe\">\n",
       "  <thead>\n",
       "    <tr style=\"text-align: right;\">\n",
       "      <th></th>\n",
       "      <th>id</th>\n",
       "      <th>brand</th>\n",
       "      <th>model</th>\n",
       "      <th>model_year</th>\n",
       "      <th>milage</th>\n",
       "      <th>fuel_type</th>\n",
       "      <th>engine</th>\n",
       "      <th>transmission</th>\n",
       "      <th>ext_col</th>\n",
       "      <th>int_col</th>\n",
       "      <th>accident</th>\n",
       "      <th>clean_title</th>\n",
       "    </tr>\n",
       "  </thead>\n",
       "  <tbody>\n",
       "    <tr>\n",
       "      <th>5907</th>\n",
       "      <td>194440</td>\n",
       "      <td>Lexus</td>\n",
       "      <td>GX 460 Base</td>\n",
       "      <td>2020</td>\n",
       "      <td>13700</td>\n",
       "      <td>Gasoline</td>\n",
       "      <td>301.0HP 4.6L 8 Cylinder Engine Gasoline Fuel</td>\n",
       "      <td>A/T</td>\n",
       "      <td>White</td>\n",
       "      <td>Black</td>\n",
       "      <td>None reported</td>\n",
       "      <td>Yes</td>\n",
       "    </tr>\n",
       "    <tr>\n",
       "      <th>32423</th>\n",
       "      <td>220956</td>\n",
       "      <td>Mercedes-Benz</td>\n",
       "      <td>SL-Class SL 550</td>\n",
       "      <td>2011</td>\n",
       "      <td>51400</td>\n",
       "      <td>Gasoline</td>\n",
       "      <td>429.0HP 4.7L 8 Cylinder Engine Gasoline Fuel</td>\n",
       "      <td>7-Speed A/T</td>\n",
       "      <td>White</td>\n",
       "      <td>Black</td>\n",
       "      <td>None reported</td>\n",
       "      <td>Yes</td>\n",
       "    </tr>\n",
       "  </tbody>\n",
       "</table>\n",
       "</div>"
      ],
      "text/plain": [
       "           id          brand            model  model_year  milage fuel_type  \\\n",
       "5907   194440          Lexus      GX 460 Base        2020   13700  Gasoline   \n",
       "32423  220956  Mercedes-Benz  SL-Class SL 550        2011   51400  Gasoline   \n",
       "\n",
       "                                             engine transmission ext_col  \\\n",
       "5907   301.0HP 4.6L 8 Cylinder Engine Gasoline Fuel          A/T   White   \n",
       "32423  429.0HP 4.7L 8 Cylinder Engine Gasoline Fuel  7-Speed A/T   White   \n",
       "\n",
       "      int_col       accident clean_title  \n",
       "5907    Black  None reported         Yes  \n",
       "32423   Black  None reported         Yes  "
      ]
     },
     "execution_count": 99,
     "metadata": {},
     "output_type": "execute_result"
    }
   ],
   "source": [
    "df1.sample(2)"
   ]
  },
  {
   "cell_type": "code",
   "execution_count": 100,
   "id": "4692bebf-4ccb-462b-b1a7-24bd2c5eefb4",
   "metadata": {},
   "outputs": [],
   "source": [
    "df1['model_year'] = np.log(df1['model_year'])"
   ]
  },
  {
   "cell_type": "code",
   "execution_count": 101,
   "id": "ecdaa935-3521-4471-a53c-0612f63fbe52",
   "metadata": {},
   "outputs": [],
   "source": [
    "df1['milage'] = np.log(df1['milage'])"
   ]
  },
  {
   "cell_type": "code",
   "execution_count": 102,
   "id": "f9eda001-e1aa-47b9-81a3-791a6e838fe2",
   "metadata": {},
   "outputs": [],
   "source": [
    "df1['engine']  =df1['engine'].str.split(' ').str[0].str.split('.').str[0]"
   ]
  },
  {
   "cell_type": "code",
   "execution_count": 103,
   "id": "749f430a-b062-4f6f-aee2-ef4545262456",
   "metadata": {},
   "outputs": [],
   "source": [
    "replace_values = ['Electric', '–', 'Intercooled', 'Standard', 'Battery','Dual']"
   ]
  },
  {
   "cell_type": "code",
   "execution_count": 104,
   "id": "4512b2f4-48b9-469d-a410-3ebf17ee09e7",
   "metadata": {},
   "outputs": [],
   "source": [
    "df1['engine'] = df1['engine'].apply(lambda x: np.random.randint(200, 301) if x in replace_values else x)"
   ]
  },
  {
   "cell_type": "code",
   "execution_count": 105,
   "id": "3957aabc-9a5f-46dd-b659-92be5d30facf",
   "metadata": {},
   "outputs": [],
   "source": [
    "df1['engine'] = df1['engine'].apply(lambda x: np.random.randint(200, 301) if any(char.isalpha() for char in str(x)) else x)"
   ]
  },
  {
   "cell_type": "code",
   "execution_count": 106,
   "id": "c9af70f0-6217-4e40-b413-84c8ea425d01",
   "metadata": {},
   "outputs": [],
   "source": [
    "df1['engine'] = df1['engine'].astype('string')"
   ]
  },
  {
   "cell_type": "code",
   "execution_count": 107,
   "id": "a38439b0-8766-4554-a1aa-eb494d35641e",
   "metadata": {},
   "outputs": [],
   "source": [
    "df1['engine'] = df1['engine'].astype(int)"
   ]
  },
  {
   "cell_type": "code",
   "execution_count": 108,
   "id": "73c52909-9006-4d86-be64-1550cb589587",
   "metadata": {},
   "outputs": [],
   "source": [
    "df1['engine'] = np.log(df1['engine']) "
   ]
  },
  {
   "cell_type": "code",
   "execution_count": 109,
   "id": "7f674bc9-5ebb-4de4-88fe-952c1a9efca2",
   "metadata": {},
   "outputs": [],
   "source": [
    "si = SimpleImputer(missing_values=np.nan, strategy='most_frequent')"
   ]
  },
  {
   "cell_type": "code",
   "execution_count": 110,
   "id": "4ad64093-fb14-4396-aef3-8b24513045ed",
   "metadata": {},
   "outputs": [],
   "source": [
    "df1[['fuel_type','accident','clean_title']] = si.fit_transform(df1[['fuel_type','accident','clean_title']])"
   ]
  },
  {
   "cell_type": "code",
   "execution_count": 111,
   "id": "43d51a0c-5c49-43ae-b012-0bfec6616069",
   "metadata": {},
   "outputs": [],
   "source": [
    "df1 = df1.drop(columns=['id','transmission','ext_col','int_col'])"
   ]
  },
  {
   "cell_type": "code",
   "execution_count": 112,
   "id": "4f6a773d-7dde-463d-bd1c-bfcae80b720f",
   "metadata": {},
   "outputs": [
    {
     "data": {
      "text/plain": [
       "(125690, 8)"
      ]
     },
     "execution_count": 112,
     "metadata": {},
     "output_type": "execute_result"
    }
   ],
   "source": [
    "df1.shape  #brand\tmodel\tmodel_year\tmilage\tfuel_type\tengine\taccident\tclean_title\tprice"
   ]
  },
  {
   "cell_type": "code",
   "execution_count": 113,
   "id": "7a02de78-0046-4b9e-89f5-a256755978a7",
   "metadata": {},
   "outputs": [
    {
     "data": {
      "text/html": [
       "<div>\n",
       "<style scoped>\n",
       "    .dataframe tbody tr th:only-of-type {\n",
       "        vertical-align: middle;\n",
       "    }\n",
       "\n",
       "    .dataframe tbody tr th {\n",
       "        vertical-align: top;\n",
       "    }\n",
       "\n",
       "    .dataframe thead th {\n",
       "        text-align: right;\n",
       "    }\n",
       "</style>\n",
       "<table border=\"1\" class=\"dataframe\">\n",
       "  <thead>\n",
       "    <tr style=\"text-align: right;\">\n",
       "      <th></th>\n",
       "      <th>brand</th>\n",
       "      <th>model</th>\n",
       "      <th>model_year</th>\n",
       "      <th>milage</th>\n",
       "      <th>fuel_type</th>\n",
       "      <th>engine</th>\n",
       "      <th>accident</th>\n",
       "      <th>clean_title</th>\n",
       "    </tr>\n",
       "  </thead>\n",
       "  <tbody>\n",
       "    <tr>\n",
       "      <th>118744</th>\n",
       "      <td>Ford</td>\n",
       "      <td>F-150 XLT</td>\n",
       "      <td>7.609367</td>\n",
       "      <td>10.868568</td>\n",
       "      <td>E85 Flex Fuel</td>\n",
       "      <td>5.978886</td>\n",
       "      <td>None reported</td>\n",
       "      <td>Yes</td>\n",
       "    </tr>\n",
       "    <tr>\n",
       "      <th>22368</th>\n",
       "      <td>Lexus</td>\n",
       "      <td>LX 570 Three-Row</td>\n",
       "      <td>7.611348</td>\n",
       "      <td>10.016816</td>\n",
       "      <td>Gasoline</td>\n",
       "      <td>5.948035</td>\n",
       "      <td>None reported</td>\n",
       "      <td>Yes</td>\n",
       "    </tr>\n",
       "    <tr>\n",
       "      <th>20431</th>\n",
       "      <td>Toyota</td>\n",
       "      <td>GR86 Premium</td>\n",
       "      <td>7.612337</td>\n",
       "      <td>7.150701</td>\n",
       "      <td>Gasoline</td>\n",
       "      <td>5.429346</td>\n",
       "      <td>None reported</td>\n",
       "      <td>Yes</td>\n",
       "    </tr>\n",
       "  </tbody>\n",
       "</table>\n",
       "</div>"
      ],
      "text/plain": [
       "         brand             model  model_year     milage      fuel_type  \\\n",
       "118744    Ford         F-150 XLT    7.609367  10.868568  E85 Flex Fuel   \n",
       "22368    Lexus  LX 570 Three-Row    7.611348  10.016816       Gasoline   \n",
       "20431   Toyota      GR86 Premium    7.612337   7.150701       Gasoline   \n",
       "\n",
       "          engine       accident clean_title  \n",
       "118744  5.978886  None reported         Yes  \n",
       "22368   5.948035  None reported         Yes  \n",
       "20431   5.429346  None reported         Yes  "
      ]
     },
     "execution_count": 113,
     "metadata": {},
     "output_type": "execute_result"
    }
   ],
   "source": [
    "df1.sample(3)"
   ]
  },
  {
   "cell_type": "code",
   "execution_count": 114,
   "id": "d3582370-2a29-439a-9062-ddf25dbd2d8c",
   "metadata": {},
   "outputs": [],
   "source": [
    "Ore = OrdinalEncoder()"
   ]
  },
  {
   "cell_type": "code",
   "execution_count": 115,
   "id": "85e225c8-5b2a-4675-b18d-b9cd13a53c8b",
   "metadata": {},
   "outputs": [],
   "source": [
    "df1[['accident','clean_title']] = Ore.fit_transform(df1[['accident','clean_title']])"
   ]
  },
  {
   "cell_type": "code",
   "execution_count": 116,
   "id": "5b4156bd-0719-4d7f-aaf8-a7d58266653b",
   "metadata": {},
   "outputs": [],
   "source": [
    "df1[['model']] = Ore.fit_transform(df1[['model']])"
   ]
  },
  {
   "cell_type": "code",
   "execution_count": 117,
   "id": "b1bc29be-cd92-4c4b-af73-18bebbcf67cc",
   "metadata": {},
   "outputs": [
    {
     "data": {
      "text/plain": [
       "(125690, 8)"
      ]
     },
     "execution_count": 117,
     "metadata": {},
     "output_type": "execute_result"
    }
   ],
   "source": [
    "df1.shape"
   ]
  },
  {
   "cell_type": "code",
   "execution_count": 118,
   "id": "471dd902-451f-49d7-9acc-4d9730ec5f94",
   "metadata": {},
   "outputs": [
    {
     "data": {
      "text/html": [
       "<div>\n",
       "<style scoped>\n",
       "    .dataframe tbody tr th:only-of-type {\n",
       "        vertical-align: middle;\n",
       "    }\n",
       "\n",
       "    .dataframe tbody tr th {\n",
       "        vertical-align: top;\n",
       "    }\n",
       "\n",
       "    .dataframe thead th {\n",
       "        text-align: right;\n",
       "    }\n",
       "</style>\n",
       "<table border=\"1\" class=\"dataframe\">\n",
       "  <thead>\n",
       "    <tr style=\"text-align: right;\">\n",
       "      <th></th>\n",
       "      <th>brand</th>\n",
       "      <th>model</th>\n",
       "      <th>model_year</th>\n",
       "      <th>milage</th>\n",
       "      <th>fuel_type</th>\n",
       "      <th>engine</th>\n",
       "      <th>accident</th>\n",
       "      <th>clean_title</th>\n",
       "    </tr>\n",
       "  </thead>\n",
       "  <tbody>\n",
       "    <tr>\n",
       "      <th>92705</th>\n",
       "      <td>Bentley</td>\n",
       "      <td>487.0</td>\n",
       "      <td>7.609862</td>\n",
       "      <td>10.254109</td>\n",
       "      <td>Gasoline</td>\n",
       "      <td>6.401917</td>\n",
       "      <td>1.0</td>\n",
       "      <td>0.0</td>\n",
       "    </tr>\n",
       "    <tr>\n",
       "      <th>115351</th>\n",
       "      <td>BMW</td>\n",
       "      <td>968.0</td>\n",
       "      <td>7.606387</td>\n",
       "      <td>10.933107</td>\n",
       "      <td>Gasoline</td>\n",
       "      <td>6.025866</td>\n",
       "      <td>1.0</td>\n",
       "      <td>0.0</td>\n",
       "    </tr>\n",
       "    <tr>\n",
       "      <th>90046</th>\n",
       "      <td>Chevrolet</td>\n",
       "      <td>1625.0</td>\n",
       "      <td>7.609862</td>\n",
       "      <td>11.195966</td>\n",
       "      <td>Gasoline</td>\n",
       "      <td>5.872118</td>\n",
       "      <td>1.0</td>\n",
       "      <td>0.0</td>\n",
       "    </tr>\n",
       "  </tbody>\n",
       "</table>\n",
       "</div>"
      ],
      "text/plain": [
       "            brand   model  model_year     milage fuel_type    engine  \\\n",
       "92705     Bentley   487.0    7.609862  10.254109  Gasoline  6.401917   \n",
       "115351        BMW   968.0    7.606387  10.933107  Gasoline  6.025866   \n",
       "90046   Chevrolet  1625.0    7.609862  11.195966  Gasoline  5.872118   \n",
       "\n",
       "        accident  clean_title  \n",
       "92705        1.0          0.0  \n",
       "115351       1.0          0.0  \n",
       "90046        1.0          0.0  "
      ]
     },
     "execution_count": 118,
     "metadata": {},
     "output_type": "execute_result"
    }
   ],
   "source": [
    "df1.sample(3)"
   ]
  },
  {
   "cell_type": "code",
   "execution_count": 119,
   "id": "ea0581a7-a128-4123-94b4-b8e64990098b",
   "metadata": {},
   "outputs": [
    {
     "data": {
      "text/plain": [
       "array(['Gasoline', 'Hybrid', 'Diesel', 'E85 Flex Fuel', 'Plug-In Hybrid',\n",
       "       '–', 'not supported'], dtype=object)"
      ]
     },
     "execution_count": 119,
     "metadata": {},
     "output_type": "execute_result"
    }
   ],
   "source": [
    " df1['fuel_type'].unique()"
   ]
  },
  {
   "cell_type": "code",
   "execution_count": 120,
   "id": "6a7e2df0-ba0e-4007-9af1-1982b2ad8ff1",
   "metadata": {},
   "outputs": [
    {
     "data": {
      "text/plain": [
       "(125690, 8)"
      ]
     },
     "execution_count": 120,
     "metadata": {},
     "output_type": "execute_result"
    }
   ],
   "source": [
    "df1.shape"
   ]
  },
  {
   "cell_type": "code",
   "execution_count": 121,
   "id": "6692fa05-e80f-42d8-8631-8873950bf345",
   "metadata": {},
   "outputs": [
    {
     "data": {
      "text/plain": [
       "(188533, 71)"
      ]
     },
     "execution_count": 121,
     "metadata": {},
     "output_type": "execute_result"
    }
   ],
   "source": [
    "df.shape"
   ]
  },
  {
   "cell_type": "code",
   "execution_count": 122,
   "id": "cf0d3c5a-e2dd-44c4-a91a-dfd511899269",
   "metadata": {},
   "outputs": [],
   "source": [
    "# Transform the test data using the already-fitted encoder\n",
    "encoded_array_test = encoder.transform(df1[['brand', 'fuel_type']])\n",
    "\n",
    "# Convert the encoded array to a DataFrame for the test data\n",
    "encoded_df_test = pd.DataFrame(encoded_array_test, columns=encoder.get_feature_names_out(['brand', 'fuel_type']))\n",
    "\n",
    "# Concatenate the original test DataFrame with the new encoded columns and drop the old ones\n",
    "df1 = pd.concat([df1, encoded_df_test], axis=1).drop(['brand', 'fuel_type'], axis=1)\n"
   ]
  },
  {
   "cell_type": "code",
   "execution_count": 123,
   "id": "a0afb435-4f50-47b2-9be5-6da3018f13aa",
   "metadata": {},
   "outputs": [
    {
     "data": {
      "text/plain": [
       "(125690, 70)"
      ]
     },
     "execution_count": 123,
     "metadata": {},
     "output_type": "execute_result"
    }
   ],
   "source": [
    "df1.shape"
   ]
  },
  {
   "cell_type": "code",
   "execution_count": 126,
   "id": "01b60504-157d-484e-83d4-53cf70c4fb9d",
   "metadata": {},
   "outputs": [],
   "source": [
    "y_pred = hist.predict(df1)"
   ]
  },
  {
   "cell_type": "code",
   "execution_count": 127,
   "id": "ab5237d9-8f57-4227-b943-e44648ea6897",
   "metadata": {},
   "outputs": [
    {
     "data": {
      "text/plain": [
       "(125690,)"
      ]
     },
     "execution_count": 127,
     "metadata": {},
     "output_type": "execute_result"
    }
   ],
   "source": [
    "y_pred.shape"
   ]
  },
  {
   "cell_type": "code",
   "execution_count": 128,
   "id": "f4735897-d788-4c4c-94cd-9260339f01d5",
   "metadata": {},
   "outputs": [
    {
     "data": {
      "text/plain": [
       "(188533, 70)"
      ]
     },
     "execution_count": 128,
     "metadata": {},
     "output_type": "execute_result"
    }
   ],
   "source": [
    "X.shape"
   ]
  },
  {
   "cell_type": "code",
   "execution_count": 129,
   "id": "6499fa87-a76f-4ac4-84d1-46be684659cd",
   "metadata": {},
   "outputs": [
    {
     "data": {
      "text/plain": [
       "(125690,)"
      ]
     },
     "execution_count": 129,
     "metadata": {},
     "output_type": "execute_result"
    }
   ],
   "source": [
    "X1.shape"
   ]
  },
  {
   "cell_type": "code",
   "execution_count": 130,
   "id": "743c8206-c212-4edd-9931-f464501e5627",
   "metadata": {},
   "outputs": [],
   "source": [
    "df2=pd.DataFrame({'id':X1,'price':y_pred})\n",
    "df2.to_csv('submission4.csv',index=False)"
   ]
  }
 ],
 "metadata": {
  "kernelspec": {
   "display_name": "Python 3 (ipykernel)",
   "language": "python",
   "name": "python3"
  },
  "language_info": {
   "codemirror_mode": {
    "name": "ipython",
    "version": 3
   },
   "file_extension": ".py",
   "mimetype": "text/x-python",
   "name": "python",
   "nbconvert_exporter": "python",
   "pygments_lexer": "ipython3",
   "version": "3.11.7"
  }
 },
 "nbformat": 4,
 "nbformat_minor": 5
}
